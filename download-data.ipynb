{
 "cells": [
  {
   "cell_type": "markdown",
   "id": "2d6db369",
   "metadata": {},
   "source": [
    "# Downloading the National Flood Insurance Program (NFIP) Claims and Policies Datasets\n",
    "Author: Mark Bauer"
   ]
  },
  {
   "cell_type": "code",
   "execution_count": 1,
   "id": "ef359360",
   "metadata": {},
   "outputs": [],
   "source": [
    "# import libraries\n",
    "import requests\n",
    "from datetime import datetime\n",
    "import duckdb"
   ]
  },
  {
   "cell_type": "code",
   "execution_count": 2,
   "id": "26f6cdc0",
   "metadata": {},
   "outputs": [
    {
     "name": "stdout",
     "output_type": "stream",
     "text": [
      "Python implementation: CPython\n",
      "Python version       : 3.11.0\n",
      "IPython version      : 8.6.0\n",
      "\n",
      "requests: 2.28.1\n",
      "duckdb  : 1.0.0\n",
      "\n"
     ]
    }
   ],
   "source": [
    "# reproducibility\n",
    "%reload_ext watermark\n",
    "%watermark -v -p requests,duckdb"
   ]
  },
  {
   "cell_type": "code",
   "execution_count": 3,
   "id": "b057f8d2",
   "metadata": {},
   "outputs": [
    {
     "name": "stdout",
     "output_type": "stream",
     "text": [
      "The data was retrieved on 2025-05-18.\n"
     ]
    }
   ],
   "source": [
    "# data retrieved, not to be confused with data of data\n",
    "current_date = datetime.now()\n",
    "print(f\"The data was retrieved on {current_date.strftime('%Y-%m-%d')}.\")"
   ]
  },
  {
   "cell_type": "markdown",
   "id": "a91c5418",
   "metadata": {},
   "source": [
    "# NFIP Claims Dataset\n",
    "Dataset page: https://www.fema.gov/openfema-data-page/fima-nfip-redacted-claims-v2"
   ]
  },
  {
   "cell_type": "code",
   "execution_count": 4,
   "id": "46025b2e",
   "metadata": {},
   "outputs": [
    {
     "name": "stdout",
     "output_type": "stream",
     "text": [
      "File downloaded successfully.\n",
      "CPU times: user 1.39 s, sys: 960 ms, total: 2.35 s\n",
      "Wall time: 30.9 s\n"
     ]
    }
   ],
   "source": [
    "%%time\n",
    "\n",
    "# URL of the Parquet file to download\n",
    "url = \"https://www.fema.gov/about/reports-and-data/openfema/FimaNfipClaims.parquet\"\n",
    "\n",
    "# path of saved file\n",
    "file_path = \"data/FimaNfipClaims.parquet\"\n",
    "\n",
    "# send an HTTP GET request to the URL\n",
    "response = requests.get(url)\n",
    "\n",
    "# check if the request was successful (status code 200)\n",
    "if response.status_code == 200:\n",
    "    \n",
    "    # write the content of the response to a file\n",
    "    with open(file_path, 'wb') as file:\n",
    "        file.write(response.content)\n",
    "    print(\"File downloaded successfully.\")\n",
    "    \n",
    "else:\n",
    "    print(\"Failed to download file.\")"
   ]
  },
  {
   "cell_type": "code",
   "execution_count": 5,
   "id": "081f36fb",
   "metadata": {},
   "outputs": [
    {
     "name": "stdout",
     "output_type": "stream",
     "text": [
      "FimaNfipClaims.parquet       nfip.db\r\n",
      "FimaNfipPolicies.parquet     policies-nyc-year.parquet\r\n",
      "claims-nyc-year.parquet      policies-state-year.parquet\r\n",
      "claims-state-year.parquet\r\n"
     ]
    }
   ],
   "source": [
    "# confirm file in data/ folder\n",
    "%ls data/"
   ]
  },
  {
   "cell_type": "code",
   "execution_count": 6,
   "id": "18289792",
   "metadata": {},
   "outputs": [
    {
     "name": "stdout",
     "output_type": "stream",
     "text": [
      "5.8G\tdata/nfip.db\r\n",
      "3.2G\tdata/FimaNfipPolicies.parquet\r\n",
      "194M\tdata/FimaNfipClaims.parquet\r\n",
      "8.0K\tdata/policies-state-year.parquet\r\n",
      "4.0K\tdata/policies-nyc-year.parquet\r\n",
      "4.0K\tdata/claims-state-year.parquet\r\n",
      "4.0K\tdata/claims-nyc-year.parquet\r\n"
     ]
    }
   ],
   "source": [
    "# preview size of file\n",
    "!du -sh data/* | sort -rh"
   ]
  },
  {
   "cell_type": "markdown",
   "id": "fbeb37fe",
   "metadata": {},
   "source": [
    "# Sanity check"
   ]
  },
  {
   "cell_type": "code",
   "execution_count": 7,
   "id": "71961d69",
   "metadata": {},
   "outputs": [
    {
     "data": {
      "text/plain": [
       "┌────────────┐\n",
       "│ count_rows │\n",
       "│   int64    │\n",
       "├────────────┤\n",
       "│    2712269 │\n",
       "└────────────┘"
      ]
     },
     "execution_count": 7,
     "metadata": {},
     "output_type": "execute_result"
    }
   ],
   "source": [
    "# sanity check on file, count rows\n",
    "duckdb.sql(\"\"\"\n",
    "    SELECT COUNT(*) AS count_rows\n",
    "    FROM read_parquet('data/FimaNfipClaims.parquet')\n",
    "\"\"\")"
   ]
  },
  {
   "cell_type": "code",
   "execution_count": 8,
   "id": "65dfef01",
   "metadata": {},
   "outputs": [
    {
     "data": {
      "text/plain": [
       "┌──────────────────────┬──────────────────────┬───┬──────────────┬──────────────┬──────────────────────┐\n",
       "│ agricultureStructu…  │       asOfDate       │ … │   latitude   │  longitude   │          id          │\n",
       "│       boolean        │ timestamp with tim…  │   │ decimal(9,1) │ decimal(9,1) │         uuid         │\n",
       "├──────────────────────┼──────────────────────┼───┼──────────────┼──────────────┼──────────────────────┤\n",
       "│ false                │ NULL                 │ … │         39.2 │        -74.6 │ a4edd1e3-a2cc-4ea7…  │\n",
       "│ false                │ NULL                 │ … │         29.9 │        -95.3 │ 5fa56e50-7923-44f3…  │\n",
       "│ false                │ NULL                 │ … │         40.0 │        -74.1 │ ee43a296-bc2b-4b49…  │\n",
       "│ false                │ NULL                 │ … │         29.9 │        -95.4 │ 2d96f6b6-d33b-4eda…  │\n",
       "│ false                │ NULL                 │ … │         26.4 │        -81.9 │ 37577287-ba9f-4cea…  │\n",
       "│ false                │ NULL                 │ … │         34.1 │        -77.9 │ 61983e8e-008d-464e…  │\n",
       "│ false                │ NULL                 │ … │         26.5 │        -82.2 │ 7413d61e-fb43-430e…  │\n",
       "│ false                │ NULL                 │ … │         40.7 │        -73.1 │ 6771720a-abf8-4496…  │\n",
       "│ false                │ NULL                 │ … │         29.7 │        -95.4 │ 20a4bebf-8c90-464e…  │\n",
       "│ false                │ NULL                 │ … │         30.0 │        -90.4 │ baa36fdf-2d6e-4890…  │\n",
       "├──────────────────────┴──────────────────────┴───┴──────────────┴──────────────┴──────────────────────┤\n",
       "│ 10 rows                                                                         73 columns (5 shown) │\n",
       "└──────────────────────────────────────────────────────────────────────────────────────────────────────┘"
      ]
     },
     "execution_count": 8,
     "metadata": {},
     "output_type": "execute_result"
    }
   ],
   "source": [
    "# preview file, limit 10 rows\n",
    "duckdb.sql(\"\"\"\n",
    "    SELECT *\n",
    "    FROM read_parquet('data/FimaNfipClaims.parquet')\n",
    "    LIMIT 10\n",
    "\"\"\")"
   ]
  },
  {
   "cell_type": "code",
   "execution_count": 9,
   "id": "bc52f20e",
   "metadata": {},
   "outputs": [
    {
     "name": "stdout",
     "output_type": "stream",
     "text": [
      "┌────────────────────────────────────────────┬──────────────────────────┐\n",
      "│                column_name                 │       column_type        │\n",
      "│                  varchar                   │         varchar          │\n",
      "├────────────────────────────────────────────┼──────────────────────────┤\n",
      "│ agricultureStructureIndicator              │ BOOLEAN                  │\n",
      "│ asOfDate                                   │ TIMESTAMP WITH TIME ZONE │\n",
      "│ basementEnclosureCrawlspaceType            │ SMALLINT                 │\n",
      "│ policyCount                                │ SMALLINT                 │\n",
      "│ crsClassificationCode                      │ SMALLINT                 │\n",
      "│ dateOfLoss                                 │ DATE                     │\n",
      "│ elevatedBuildingIndicator                  │ BOOLEAN                  │\n",
      "│ elevationCertificateIndicator              │ VARCHAR                  │\n",
      "│ elevationDifference                        │ DECIMAL(6,1)             │\n",
      "│ baseFloodElevation                         │ DECIMAL(6,1)             │\n",
      "│ ratedFloodZone                             │ VARCHAR                  │\n",
      "│ houseWorship                               │ BOOLEAN                  │\n",
      "│ locationOfContents                         │ SMALLINT                 │\n",
      "│ lowestAdjacentGrade                        │ DECIMAL(6,1)             │\n",
      "│ lowestFloorElevation                       │ DECIMAL(6,1)             │\n",
      "│ numberOfFloorsInTheInsuredBuilding         │ SMALLINT                 │\n",
      "│ nonProfitIndicator                         │ BOOLEAN                  │\n",
      "│ obstructionType                            │ SMALLINT                 │\n",
      "│ occupancyType                              │ SMALLINT                 │\n",
      "│ originalConstructionDate                   │ DATE                     │\n",
      "│ originalNBDate                             │ DATE                     │\n",
      "│ amountPaidOnBuildingClaim                  │ DECIMAL(12,2)            │\n",
      "│ amountPaidOnContentsClaim                  │ DECIMAL(12,2)            │\n",
      "│ amountPaidOnIncreasedCostOfComplianceClaim │ DECIMAL(12,2)            │\n",
      "│ postFIRMConstructionIndicator              │ BOOLEAN                  │\n",
      "│ rateMethod                                 │ VARCHAR                  │\n",
      "│ smallBusinessIndicatorBuilding             │ BOOLEAN                  │\n",
      "│ totalBuildingInsuranceCoverage             │ BIGINT                   │\n",
      "│ totalContentsInsuranceCoverage             │ BIGINT                   │\n",
      "│ yearOfLoss                                 │ SMALLINT                 │\n",
      "│ primaryResidenceIndicator                  │ BOOLEAN                  │\n",
      "│ buildingDamageAmount                       │ BIGINT                   │\n",
      "│ buildingDeductibleCode                     │ VARCHAR                  │\n",
      "│ netBuildingPaymentAmount                   │ DECIMAL(12,2)            │\n",
      "│ buildingPropertyValue                      │ BIGINT                   │\n",
      "│ causeOfDamage                              │ VARCHAR                  │\n",
      "│ condominiumCoverageTypeCode                │ VARCHAR                  │\n",
      "│ contentsDamageAmount                       │ BIGINT                   │\n",
      "│ contentsDeductibleCode                     │ VARCHAR                  │\n",
      "│ netContentsPaymentAmount                   │ DECIMAL(12,2)            │\n",
      "│ contentsPropertyValue                      │ BIGINT                   │\n",
      "│ disasterAssistanceCoverageRequired         │ SMALLINT                 │\n",
      "│ eventDesignationNumber                     │ VARCHAR                  │\n",
      "│ ficoNumber                                 │ SMALLINT                 │\n",
      "│ floodCharacteristicsIndicator              │ SMALLINT                 │\n",
      "│ floodWaterDuration                         │ SMALLINT                 │\n",
      "│ floodproofedIndicator                      │ BOOLEAN                  │\n",
      "│ floodEvent                                 │ VARCHAR                  │\n",
      "│ iccCoverage                                │ INTEGER                  │\n",
      "│ netIccPaymentAmount                        │ DECIMAL(8,2)             │\n",
      "│ nfipRatedCommunityNumber                   │ VARCHAR                  │\n",
      "│ nfipCommunityNumberCurrent                 │ VARCHAR                  │\n",
      "│ nfipCommunityName                          │ VARCHAR                  │\n",
      "│ nonPaymentReasonContents                   │ VARCHAR                  │\n",
      "│ nonPaymentReasonBuilding                   │ VARCHAR                  │\n",
      "│ numberOfUnits                              │ INTEGER                  │\n",
      "│ buildingReplacementCost                    │ BIGINT                   │\n",
      "│ contentsReplacementCost                    │ BIGINT                   │\n",
      "│ replacementCostBasis                       │ VARCHAR                  │\n",
      "│ stateOwnedIndicator                        │ BOOLEAN                  │\n",
      "│ waterDepth                                 │ SMALLINT                 │\n",
      "│ floodZoneCurrent                           │ VARCHAR                  │\n",
      "│ buildingDescriptionCode                    │ SMALLINT                 │\n",
      "│ rentalPropertyIndicator                    │ BOOLEAN                  │\n",
      "│ state                                      │ VARCHAR                  │\n",
      "│ reportedCity                               │ VARCHAR                  │\n",
      "│ reportedZipCode                            │ VARCHAR                  │\n",
      "│ countyCode                                 │ VARCHAR                  │\n",
      "│ censusTract                                │ VARCHAR                  │\n",
      "│ censusBlockGroupFips                       │ VARCHAR                  │\n",
      "│ latitude                                   │ DECIMAL(9,1)             │\n",
      "│ longitude                                  │ DECIMAL(9,1)             │\n",
      "│ id                                         │ UUID                     │\n",
      "├────────────────────────────────────────────┴──────────────────────────┤\n",
      "│ 73 rows                                                     2 columns │\n",
      "└───────────────────────────────────────────────────────────────────────┘\n",
      "\n"
     ]
    }
   ],
   "source": [
    "# preview columns\n",
    "describe_rel = duckdb.sql(\"\"\"\n",
    "    DESCRIBE\n",
    "    SELECT *\n",
    "    FROM read_parquet('data/FimaNfipClaims.parquet')\n",
    "\"\"\")\n",
    "\n",
    "# select columns\n",
    "duckdb.sql(\"\"\"\n",
    "    SELECT column_name, column_type\n",
    "    FROM describe_rel\n",
    "\"\"\").show(max_rows=80)"
   ]
  },
  {
   "cell_type": "code",
   "execution_count": 10,
   "id": "befacd0a",
   "metadata": {},
   "outputs": [
    {
     "name": "stdout",
     "output_type": "stream",
     "text": [
      "┌────────────────────────────────────────────┬─────────────────┐\n",
      "│                column_name                 │ null_percentage │\n",
      "│                  varchar                   │  decimal(9,2)   │\n",
      "├────────────────────────────────────────────┼─────────────────┤\n",
      "│ asOfDate                                   │           99.38 │\n",
      "│ floodCharacteristicsIndicator              │           98.53 │\n",
      "│ crsClassificationCode                      │           95.09 │\n",
      "│ eventDesignationNumber                     │           93.23 │\n",
      "│ lowestAdjacentGrade                        │           81.09 │\n",
      "│ elevationCertificateIndicator              │           77.93 │\n",
      "│ nonPaymentReasonBuilding                   │           77.93 │\n",
      "│ lowestFloorElevation                       │           76.37 │\n",
      "│ baseFloodElevation                         │           75.68 │\n",
      "│ elevationDifference                        │           72.96 │\n",
      "│ floodZoneCurrent                           │           71.68 │\n",
      "│ nfipCommunityNumberCurrent                 │           71.63 │\n",
      "│ basementEnclosureCrawlspaceType            │           69.81 │\n",
      "│ nfipCommunityName                          │           69.69 │\n",
      "│ nonPaymentReasonContents                   │           68.56 │\n",
      "│ buildingDescriptionCode                    │           63.98 │\n",
      "│ contentsReplacementCost                    │           58.53 │\n",
      "│ contentsDamageAmount                       │           58.50 │\n",
      "│ contentsPropertyValue                      │           58.50 │\n",
      "│ obstructionType                            │           44.31 │\n",
      "│ ficoNumber                                 │           36.24 │\n",
      "│ locationOfContents                         │           33.84 │\n",
      "│ floodEvent                                 │           28.23 │\n",
      "│ iccCoverage                                │           27.73 │\n",
      "│ buildingPropertyValue                      │           22.16 │\n",
      "│ buildingReplacementCost                    │           22.16 │\n",
      "│ buildingDamageAmount                       │           22.08 │\n",
      "│ amountPaidOnBuildingClaim                  │           20.94 │\n",
      "│ amountPaidOnContentsClaim                  │           20.94 │\n",
      "│ amountPaidOnIncreasedCostOfComplianceClaim │           20.94 │\n",
      "│ contentsDeductibleCode                     │           20.20 │\n",
      "│ disasterAssistanceCoverageRequired         │           14.41 │\n",
      "│ floodWaterDuration                         │           10.22 │\n",
      "│ buildingDeductibleCode                     │            9.92 │\n",
      "│ waterDepth                                 │            8.72 │\n",
      "│ replacementCostBasis                       │            7.17 │\n",
      "│ ratedFloodZone                             │            5.13 │\n",
      "│ censusTract                                │            5.07 │\n",
      "│ censusBlockGroupFips                       │            5.07 │\n",
      "│ countyCode                                 │            2.30 │\n",
      "│ latitude                                   │            1.52 │\n",
      "│ longitude                                  │            1.52 │\n",
      "│ causeOfDamage                              │            1.39 │\n",
      "│ condominiumCoverageTypeCode                │            1.38 │\n",
      "│ rateMethod                                 │            1.23 │\n",
      "│ numberOfFloorsInTheInsuredBuilding         │            0.64 │\n",
      "│ numberOfUnits                              │            0.10 │\n",
      "│ originalConstructionDate                   │            0.07 │\n",
      "│ occupancyType                              │            0.02 │\n",
      "│ agricultureStructureIndicator              │            0.00 │\n",
      "│ policyCount                                │            0.00 │\n",
      "│ dateOfLoss                                 │            0.00 │\n",
      "│ elevatedBuildingIndicator                  │            0.00 │\n",
      "│ houseWorship                               │            0.00 │\n",
      "│ nonProfitIndicator                         │            0.00 │\n",
      "│ originalNBDate                             │            0.00 │\n",
      "│ postFIRMConstructionIndicator              │            0.00 │\n",
      "│ smallBusinessIndicatorBuilding             │            0.00 │\n",
      "│ totalBuildingInsuranceCoverage             │            0.00 │\n",
      "│ totalContentsInsuranceCoverage             │            0.00 │\n",
      "│ yearOfLoss                                 │            0.00 │\n",
      "│ primaryResidenceIndicator                  │            0.00 │\n",
      "│ netBuildingPaymentAmount                   │            0.00 │\n",
      "│ netContentsPaymentAmount                   │            0.00 │\n",
      "│ floodproofedIndicator                      │            0.00 │\n",
      "│ netIccPaymentAmount                        │            0.00 │\n",
      "│ nfipRatedCommunityNumber                   │            0.00 │\n",
      "│ stateOwnedIndicator                        │            0.00 │\n",
      "│ rentalPropertyIndicator                    │            0.00 │\n",
      "│ state                                      │            0.00 │\n",
      "│ reportedCity                               │            0.00 │\n",
      "│ reportedZipCode                            │            0.00 │\n",
      "│ id                                         │            0.00 │\n",
      "├────────────────────────────────────────────┴─────────────────┤\n",
      "│ 73 rows                                            2 columns │\n",
      "└──────────────────────────────────────────────────────────────┘\n",
      "\n"
     ]
    }
   ],
   "source": [
    "# summarize null statistics\n",
    "summarize_rel = duckdb.sql(\"\"\"\n",
    "    SUMMARIZE\n",
    "    SELECT *\n",
    "    FROM read_parquet('data/FimaNfipClaims.parquet')\n",
    "\"\"\")\n",
    "\n",
    "# order by percentage\n",
    "duckdb.sql(\"\"\"\n",
    "    SELECT\n",
    "        column_name,\n",
    "        null_percentage\n",
    "    FROM summarize_rel\n",
    "    ORDER BY null_percentage DESC\n",
    "\"\"\").show(max_rows=80)"
   ]
  },
  {
   "cell_type": "markdown",
   "id": "ddda3394",
   "metadata": {},
   "source": [
    "# NFIP Policies Dataset\n",
    "Dataset page: https://www.fema.gov/openfema-data-page/fima-nfip-redacted-policies-v2"
   ]
  },
  {
   "cell_type": "code",
   "execution_count": 11,
   "id": "7da3893f",
   "metadata": {},
   "outputs": [
    {
     "name": "stdout",
     "output_type": "stream",
     "text": [
      "File downloaded successfully.\n",
      "CPU times: user 21.4 s, sys: 17.4 s, total: 38.8 s\n",
      "Wall time: 4min 44s\n"
     ]
    }
   ],
   "source": [
    "%%time\n",
    "\n",
    "# URL of the Parquet file to download\n",
    "url = \"https://www.fema.gov/about/reports-and-data/openfema/FimaNfipPolicies.parquet\"\n",
    "\n",
    "# path of saved file\n",
    "file_path = \"data/FimaNfipPolicies.parquet\"\n",
    "\n",
    "# send an HTTP GET request to the URL\n",
    "response = requests.get(url)\n",
    "\n",
    "# check if the request was successful (status code 200)\n",
    "if response.status_code == 200:\n",
    "    \n",
    "    # write the content of the response to a file\n",
    "    with open(file_path, 'wb') as file:\n",
    "        file.write(response.content)\n",
    "    print(\"File downloaded successfully.\")\n",
    "    \n",
    "else:\n",
    "    print(\"Failed to download file.\")"
   ]
  },
  {
   "cell_type": "code",
   "execution_count": 12,
   "id": "866b9614",
   "metadata": {},
   "outputs": [
    {
     "name": "stdout",
     "output_type": "stream",
     "text": [
      "FimaNfipClaims.parquet       nfip.db\r\n",
      "FimaNfipPolicies.parquet     policies-nyc-year.parquet\r\n",
      "claims-nyc-year.parquet      policies-state-year.parquet\r\n",
      "claims-state-year.parquet\r\n"
     ]
    }
   ],
   "source": [
    "# confirm file in data/ folder\n",
    "%ls data/"
   ]
  },
  {
   "cell_type": "code",
   "execution_count": 13,
   "id": "2632a470",
   "metadata": {},
   "outputs": [
    {
     "name": "stdout",
     "output_type": "stream",
     "text": [
      "5.8G\tdata/nfip.db\r\n",
      "3.2G\tdata/FimaNfipPolicies.parquet\r\n",
      "194M\tdata/FimaNfipClaims.parquet\r\n",
      "8.0K\tdata/policies-state-year.parquet\r\n",
      "4.0K\tdata/policies-nyc-year.parquet\r\n",
      "4.0K\tdata/claims-state-year.parquet\r\n",
      "4.0K\tdata/claims-nyc-year.parquet\r\n"
     ]
    }
   ],
   "source": [
    "# preview size of file\n",
    "!du -sh data/* | sort -rh"
   ]
  },
  {
   "cell_type": "markdown",
   "id": "2e9172f0",
   "metadata": {},
   "source": [
    "# Sanity check"
   ]
  },
  {
   "cell_type": "code",
   "execution_count": 14,
   "id": "29f3c95f",
   "metadata": {},
   "outputs": [
    {
     "data": {
      "text/plain": [
       "┌────────────┐\n",
       "│ count_rows │\n",
       "│   int64    │\n",
       "├────────────┤\n",
       "│   69489458 │\n",
       "└────────────┘"
      ]
     },
     "execution_count": 14,
     "metadata": {},
     "output_type": "execute_result"
    }
   ],
   "source": [
    "# sanity check on file, count rows\n",
    "duckdb.sql(\"\"\"\n",
    "    SELECT COUNT(*) AS count_rows\n",
    "    FROM read_parquet('data/FimaNfipPolicies.parquet')\n",
    "\"\"\")"
   ]
  },
  {
   "cell_type": "code",
   "execution_count": 15,
   "id": "caa24d54",
   "metadata": {},
   "outputs": [
    {
     "data": {
      "text/plain": [
       "┌──────────────────────┬────────────────────┬───┬──────────────┬──────────────┬──────────────────────┐\n",
       "│ agricultureStructu…  │ baseFloodElevation │ … │   latitude   │  longitude   │          id          │\n",
       "│       boolean        │    decimal(8,2)    │   │ decimal(9,1) │ decimal(9,1) │         uuid         │\n",
       "├──────────────────────┼────────────────────┼───┼──────────────┼──────────────┼──────────────────────┤\n",
       "│ false                │               NULL │ … │         32.2 │       -110.9 │ c3c498e0-39ee-4642…  │\n",
       "│ false                │               NULL │ … │         37.6 │       -121.0 │ 6daee4b7-308b-453c…  │\n",
       "│ false                │               NULL │ … │         35.4 │       -118.9 │ d4191676-0f6d-47bf…  │\n",
       "│ false                │               NULL │ … │         39.0 │       -121.4 │ 9dac717a-9a1f-4323…  │\n",
       "│ false                │               NULL │ … │         34.4 │       -119.6 │ e11197ee-65ef-4630…  │\n",
       "│ false                │               NULL │ … │         36.6 │       -119.4 │ 5868222f-6658-4812…  │\n",
       "│ false                │               NULL │ … │         38.6 │       -121.5 │ 8cc6b388-0435-488b…  │\n",
       "│ false                │               NULL │ … │         38.5 │       -121.5 │ 8859a4dd-6eea-4234…  │\n",
       "│ false                │               NULL │ … │         38.6 │       -121.5 │ 4ed6266d-0227-42b3…  │\n",
       "│ false                │             131.00 │ … │         39.5 │       -122.2 │ 7db9ea09-8cd1-480b…  │\n",
       "├──────────────────────┴────────────────────┴───┴──────────────┴──────────────┴──────────────────────┤\n",
       "│ 10 rows                                                                       81 columns (5 shown) │\n",
       "└────────────────────────────────────────────────────────────────────────────────────────────────────┘"
      ]
     },
     "execution_count": 15,
     "metadata": {},
     "output_type": "execute_result"
    }
   ],
   "source": [
    "# preview file, limit 10 rows\n",
    "duckdb.sql(\"\"\"\n",
    "    SELECT *\n",
    "    FROM read_parquet('data/FimaNfipPolicies.parquet')\n",
    "    LIMIT 10\n",
    "\"\"\")"
   ]
  },
  {
   "cell_type": "code",
   "execution_count": 16,
   "id": "ae73e443",
   "metadata": {},
   "outputs": [
    {
     "name": "stdout",
     "output_type": "stream",
     "text": [
      "┌────────────────────────────────────────┬──────────────┐\n",
      "│              column_name               │ column_type  │\n",
      "│                varchar                 │   varchar    │\n",
      "├────────────────────────────────────────┼──────────────┤\n",
      "│ agricultureStructureIndicator          │ BOOLEAN      │\n",
      "│ baseFloodElevation                     │ DECIMAL(8,2) │\n",
      "│ basementEnclosureCrawlspaceType        │ SMALLINT     │\n",
      "│ cancellationDateOfFloodPolicy          │ DATE         │\n",
      "│ condominiumCoverageTypeCode            │ VARCHAR      │\n",
      "│ construction                           │ BOOLEAN      │\n",
      "│ crsClassCode                           │ SMALLINT     │\n",
      "│ buildingDeductibleCode                 │ VARCHAR      │\n",
      "│ contentsDeductibleCode                 │ VARCHAR      │\n",
      "│ elevatedBuildingIndicator              │ BOOLEAN      │\n",
      "│ elevationCertificateIndicator          │ VARCHAR      │\n",
      "│ elevationDifference                    │ INTEGER      │\n",
      "│ federalPolicyFee                       │ SMALLINT     │\n",
      "│ ratedFloodZone                         │ VARCHAR      │\n",
      "│ hfiaaSurcharge                         │ SMALLINT     │\n",
      "│ houseOfWorshipIndicator                │ BOOLEAN      │\n",
      "│ locationOfContents                     │ SMALLINT     │\n",
      "│ lowestAdjacentGrade                    │ DECIMAL(8,2) │\n",
      "│ lowestFloorElevation                   │ DECIMAL(8,2) │\n",
      "│ nonProfitIndicator                     │ BOOLEAN      │\n",
      "│ numberOfFloorsInInsuredBuilding        │ SMALLINT     │\n",
      "│ obstructionType                        │ SMALLINT     │\n",
      "│ occupancyType                          │ SMALLINT     │\n",
      "│ originalConstructionDate               │ DATE         │\n",
      "│ originalNBDate                         │ DATE         │\n",
      "│ policyCost                             │ INTEGER      │\n",
      "│ policyCount                            │ SMALLINT     │\n",
      "│ policyEffectiveDate                    │ DATE         │\n",
      "│ policyTerminationDate                  │ DATE         │\n",
      "│ policyTermIndicator                    │ SMALLINT     │\n",
      "│ postFIRMConstructionIndicator          │ BOOLEAN      │\n",
      "│ primaryResidenceIndicator              │ BOOLEAN      │\n",
      "│ rateMethod                             │ VARCHAR      │\n",
      "│ regularEmergencyProgramIndicator       │ VARCHAR      │\n",
      "│ smallBusinessIndicatorBuilding         │ BOOLEAN      │\n",
      "│ totalBuildingInsuranceCoverage         │ INTEGER      │\n",
      "│ totalContentsInsuranceCoverage         │ INTEGER      │\n",
      "│ totalInsurancePremiumOfThePolicy       │ INTEGER      │\n",
      "│ cancellationVoidanceReasonCode         │ VARCHAR      │\n",
      "│ subsidizedRateType                     │ VARCHAR      │\n",
      "│ iccPremium                             │ SMALLINT     │\n",
      "│ reserveFundAssessment                  │ INTEGER      │\n",
      "│ communityProbationSurcharge            │ SMALLINT     │\n",
      "│ premiumPaymentIndicator                │ SMALLINT     │\n",
      "│ buildingReplacementCost                │ BIGINT       │\n",
      "│ basicBuildingRate                      │ DECIMAL(8,2) │\n",
      "│ additionalBuildingRate                 │ DECIMAL(8,2) │\n",
      "│ basicContentsRate                      │ DECIMAL(8,2) │\n",
      "│ AdditionalContentsRate                 │ DECIMAL(8,2) │\n",
      "│ enclosureTypeCode                      │ VARCHAR      │\n",
      "│ buildingDescriptionCode                │ SMALLINT     │\n",
      "│ insuranceToValueCode                   │ SMALLINT     │\n",
      "│ postFirmVzoneIndicator                 │ BOOLEAN      │\n",
      "│ floodproofedIndicator                  │ BOOLEAN      │\n",
      "│ waitingPeriodType                      │ VARCHAR      │\n",
      "│ rolloverTransferCode                   │ VARCHAR      │\n",
      "│ endorsementEffectiveDate               │ DATE         │\n",
      "│ propertyPurchaseDate                   │ DATE         │\n",
      "│ rentalPropertyIndicator                │ BOOLEAN      │\n",
      "│ tenantIndicator                        │ BOOLEAN      │\n",
      "│ stateOwnedIndicator                    │ BOOLEAN      │\n",
      "│ disasterAssistanceCoverageRequiredCode │ SMALLINT     │\n",
      "│ mandatoryPurchaseFlag                  │ BOOLEAN      │\n",
      "│ grandfatheringTypeCode                 │ SMALLINT     │\n",
      "│ nfipRatedCommunityNumber               │ VARCHAR      │\n",
      "│ nfipCommunityNumberCurrent             │ VARCHAR      │\n",
      "│ nfipCommunityName                      │ VARCHAR      │\n",
      "│ programTypeIndicator                   │ BOOLEAN      │\n",
      "│ mapPanelNumber                         │ VARCHAR      │\n",
      "│ mapPanelSuffix                         │ VARCHAR      │\n",
      "│ floodZoneCurrent                       │ VARCHAR      │\n",
      "│ femaRegion                             │ SMALLINT     │\n",
      "│ propertyState                          │ VARCHAR      │\n",
      "│ reportedCity                           │ VARCHAR      │\n",
      "│ reportedZipCode                        │ VARCHAR      │\n",
      "│ countyCode                             │ VARCHAR      │\n",
      "│ censusTract                            │ VARCHAR      │\n",
      "│ censusBlockGroupFips                   │ VARCHAR      │\n",
      "│ latitude                               │ DECIMAL(9,1) │\n",
      "│ longitude                              │ DECIMAL(9,1) │\n",
      "│ id                                     │ UUID         │\n",
      "├────────────────────────────────────────┴──────────────┤\n",
      "│ 81 rows                                     2 columns │\n",
      "└───────────────────────────────────────────────────────┘\n",
      "\n"
     ]
    }
   ],
   "source": [
    "# preview columns\n",
    "describe_rel = duckdb.sql(\"\"\"\n",
    "    DESCRIBE\n",
    "    SELECT *\n",
    "    FROM read_parquet('data/FimaNfipPolicies.parquet')\n",
    "\"\"\")\n",
    "\n",
    "# select columns\n",
    "duckdb.sql(\"\"\"\n",
    "    SELECT column_name, column_type\n",
    "    FROM describe_rel\n",
    "\"\"\").show(max_rows=80)"
   ]
  },
  {
   "cell_type": "code",
   "execution_count": 17,
   "id": "1f220a4e",
   "metadata": {},
   "outputs": [
    {
     "name": "stdout",
     "output_type": "stream",
     "text": [
      "┌────────────────────────────────────────┬─────────────────┐\n",
      "│              column_name               │ null_percentage │\n",
      "│                varchar                 │  decimal(9,2)   │\n",
      "├────────────────────────────────────────┼─────────────────┤\n",
      "│ cancellationDateOfFloodPolicy          │           95.70 │\n",
      "│ cancellationVoidanceReasonCode         │           95.70 │\n",
      "│ obstructionType                        │           81.43 │\n",
      "│ elevationCertificateIndicator          │           77.96 │\n",
      "│ enclosureTypeCode                      │           74.92 │\n",
      "│ insuranceToValueCode                   │           69.99 │\n",
      "│ lowestAdjacentGrade                    │           68.84 │\n",
      "│ lowestFloorElevation                   │           67.10 │\n",
      "│ baseFloodElevation                     │           66.54 │\n",
      "│ elevationDifference                    │           66.12 │\n",
      "│ propertyPurchaseDate                   │           59.77 │\n",
      "│ basementEnclosureCrawlspaceType        │           59.02 │\n",
      "│ subsidizedRateType                     │           52.65 │\n",
      "│ premiumPaymentIndicator                │           49.62 │\n",
      "│ crsClassCode                           │           47.61 │\n",
      "│ waitingPeriodType                      │           38.59 │\n",
      "│ disasterAssistanceCoverageRequiredCode │           33.58 │\n",
      "│ floodZoneCurrent                       │           30.78 │\n",
      "│ nfipCommunityNumberCurrent             │           30.73 │\n",
      "│ locationOfContents                     │           30.43 │\n",
      "│ nfipCommunityName                      │           26.53 │\n",
      "│ AdditionalContentsRate                 │           20.39 │\n",
      "│ basicBuildingRate                      │           20.38 │\n",
      "│ additionalBuildingRate                 │           20.38 │\n",
      "│ basicContentsRate                      │           20.38 │\n",
      "│ endorsementEffectiveDate               │           19.97 │\n",
      "│ communityProbationSurcharge            │           16.80 │\n",
      "│ buildingDescriptionCode                │           16.36 │\n",
      "│ contentsDeductibleCode                 │           14.22 │\n",
      "│ grandfatheringTypeCode                 │            6.75 │\n",
      "│ mapPanelNumber                         │            4.67 │\n",
      "│ mapPanelSuffix                         │            4.33 │\n",
      "│ buildingReplacementCost                │            4.24 │\n",
      "│ rolloverTransferCode                   │            2.36 │\n",
      "│ buildingDeductibleCode                 │            1.38 │\n",
      "│ iccPremium                             │            0.80 │\n",
      "│ censusTract                            │            0.50 │\n",
      "│ censusBlockGroupFips                   │            0.50 │\n",
      "│ countyCode                             │            0.12 │\n",
      "│ latitude                               │            0.11 │\n",
      "│ longitude                              │            0.11 │\n",
      "│ numberOfFloorsInInsuredBuilding        │            0.08 │\n",
      "│ ratedFloodZone                         │            0.07 │\n",
      "│ originalConstructionDate               │            0.06 │\n",
      "│ femaRegion                             │            0.06 │\n",
      "│ condominiumCoverageTypeCode            │            0.04 │\n",
      "│ originalNBDate                         │            0.02 │\n",
      "│ agricultureStructureIndicator          │            0.00 │\n",
      "│ construction                           │            0.00 │\n",
      "│ elevatedBuildingIndicator              │            0.00 │\n",
      "│ federalPolicyFee                       │            0.00 │\n",
      "│ hfiaaSurcharge                         │            0.00 │\n",
      "│ houseOfWorshipIndicator                │            0.00 │\n",
      "│ nonProfitIndicator                     │            0.00 │\n",
      "│ occupancyType                          │            0.00 │\n",
      "│ policyCost                             │            0.00 │\n",
      "│ policyCount                            │            0.00 │\n",
      "│ policyEffectiveDate                    │            0.00 │\n",
      "│ policyTerminationDate                  │            0.00 │\n",
      "│ policyTermIndicator                    │            0.00 │\n",
      "│ postFIRMConstructionIndicator          │            0.00 │\n",
      "│ primaryResidenceIndicator              │            0.00 │\n",
      "│ rateMethod                             │            0.00 │\n",
      "│ regularEmergencyProgramIndicator       │            0.00 │\n",
      "│ smallBusinessIndicatorBuilding         │            0.00 │\n",
      "│ totalBuildingInsuranceCoverage         │            0.00 │\n",
      "│ totalContentsInsuranceCoverage         │            0.00 │\n",
      "│ totalInsurancePremiumOfThePolicy       │            0.00 │\n",
      "│ reserveFundAssessment                  │            0.00 │\n",
      "│ postFirmVzoneIndicator                 │            0.00 │\n",
      "│ floodproofedIndicator                  │            0.00 │\n",
      "│ rentalPropertyIndicator                │            0.00 │\n",
      "│ tenantIndicator                        │            0.00 │\n",
      "│ stateOwnedIndicator                    │            0.00 │\n",
      "│ mandatoryPurchaseFlag                  │            0.00 │\n",
      "│ nfipRatedCommunityNumber               │            0.00 │\n",
      "│ programTypeIndicator                   │            0.00 │\n",
      "│ propertyState                          │            0.00 │\n",
      "│ reportedCity                           │            0.00 │\n",
      "│ reportedZipCode                        │            0.00 │\n",
      "│ id                                     │            0.00 │\n",
      "├────────────────────────────────────────┴─────────────────┤\n",
      "│ 81 rows                                        2 columns │\n",
      "└──────────────────────────────────────────────────────────┘\n",
      "\n"
     ]
    }
   ],
   "source": [
    "# summarize null statistics\n",
    "summarize_rel = duckdb.sql(\"\"\"\n",
    "    SUMMARIZE\n",
    "    SELECT *\n",
    "    FROM read_parquet('data/FimaNfipPolicies.parquet')\n",
    "\"\"\")\n",
    "\n",
    "# order by percentage\n",
    "duckdb.sql(\"\"\"\n",
    "    SELECT\n",
    "        column_name,\n",
    "        null_percentage\n",
    "    FROM summarize_rel\n",
    "    ORDER BY null_percentage DESC\n",
    "\"\"\").show(max_rows=80)"
   ]
  },
  {
   "cell_type": "code",
   "execution_count": null,
   "id": "9c8b99b4",
   "metadata": {},
   "outputs": [],
   "source": []
  }
 ],
 "metadata": {
  "kernelspec": {
   "display_name": "Python 3 (ipykernel)",
   "language": "python",
   "name": "python3"
  },
  "language_info": {
   "codemirror_mode": {
    "name": "ipython",
    "version": 3
   },
   "file_extension": ".py",
   "mimetype": "text/x-python",
   "name": "python",
   "nbconvert_exporter": "python",
   "pygments_lexer": "ipython3",
   "version": "3.11.0"
  }
 },
 "nbformat": 4,
 "nbformat_minor": 5
}
