{
 "cells": [
  {
   "cell_type": "markdown",
   "id": "2d6db369",
   "metadata": {},
   "source": [
    "# Download NFIP Claims File\n",
    "Author: Mark Bauer"
   ]
  },
  {
   "cell_type": "code",
   "execution_count": 13,
   "id": "ef359360",
   "metadata": {},
   "outputs": [],
   "source": [
    "# import libraries\n",
    "import requests\n",
    "from datetime import datetime\n",
    "import duckdb"
   ]
  },
  {
   "cell_type": "code",
   "execution_count": 14,
   "id": "26f6cdc0",
   "metadata": {},
   "outputs": [
    {
     "name": "stdout",
     "output_type": "stream",
     "text": [
      "Python implementation: CPython\n",
      "Python version       : 3.11.0\n",
      "IPython version      : 8.6.0\n",
      "\n",
      "requests: 2.28.1\n",
      "duckdb  : 1.0.0\n",
      "\n"
     ]
    }
   ],
   "source": [
    "# reproducibility\n",
    "%reload_ext watermark\n",
    "%watermark -v -p requests,duckdb"
   ]
  },
  {
   "cell_type": "code",
   "execution_count": 15,
   "id": "b057f8d2",
   "metadata": {},
   "outputs": [
    {
     "name": "stdout",
     "output_type": "stream",
     "text": [
      "The data was retrieved on 2025-05-04.\n"
     ]
    }
   ],
   "source": [
    "# data retrieved\n",
    "current_date = datetime.now()\n",
    "print(f\"The data was retrieved on {current_date.strftime('%Y-%m-%d')}.\")"
   ]
  },
  {
   "cell_type": "code",
   "execution_count": 16,
   "id": "46025b2e",
   "metadata": {},
   "outputs": [
    {
     "name": "stdout",
     "output_type": "stream",
     "text": [
      "File downloaded successfully.\n"
     ]
    }
   ],
   "source": [
    "# URL of the Parquet file to download\n",
    "url = \"https://www.fema.gov/about/reports-and-data/openfema/FimaNfipClaims.parquet\"\n",
    "\n",
    "# Send an HTTP GET request to the URL\n",
    "response = requests.get(url)\n",
    "\n",
    "# Check if the request was successful (status code 200)\n",
    "if response.status_code == 200:\n",
    "    \n",
    "    # Specify the file path where you want to save the downloaded file\n",
    "    file_path = \"data/FimaNfipClaims.parquet\"\n",
    "    \n",
    "    # Write the content of the response to a file\n",
    "    with open(file_path, 'wb') as file:\n",
    "        file.write(response.content)\n",
    "    print(\"File downloaded successfully.\")\n",
    "    \n",
    "else:\n",
    "    print(\"Failed to download file.\")"
   ]
  },
  {
   "cell_type": "code",
   "execution_count": 17,
   "id": "081f36fb",
   "metadata": {},
   "outputs": [
    {
     "name": "stdout",
     "output_type": "stream",
     "text": [
      "FimaNfipClaims.parquet\r\n"
     ]
    }
   ],
   "source": [
    "# confirm file in data/ folder\n",
    "%ls data/"
   ]
  },
  {
   "cell_type": "code",
   "execution_count": 18,
   "id": "18289792",
   "metadata": {},
   "outputs": [
    {
     "name": "stdout",
     "output_type": "stream",
     "text": [
      "151M\tdata/FimaNfipClaims.parquet\r\n"
     ]
    }
   ],
   "source": [
    "# preview size of file\n",
    "!du -sh data/* | sort -rh"
   ]
  },
  {
   "cell_type": "markdown",
   "id": "fbeb37fe",
   "metadata": {},
   "source": [
    "# Sanity check"
   ]
  },
  {
   "cell_type": "code",
   "execution_count": 51,
   "id": "71961d69",
   "metadata": {},
   "outputs": [
    {
     "data": {
      "text/plain": [
       "┌────────────┐\n",
       "│ count_rows │\n",
       "│   int64    │\n",
       "├────────────┤\n",
       "│    2709121 │\n",
       "└────────────┘"
      ]
     },
     "execution_count": 51,
     "metadata": {},
     "output_type": "execute_result"
    }
   ],
   "source": [
    "# sanity check on file\n",
    "duckdb.sql(\"\"\"\n",
    "    SELECT COUNT(*) AS count_rows\n",
    "    FROM read_parquet('data/FimaNfipClaims.parquet')\n",
    "\"\"\")"
   ]
  },
  {
   "cell_type": "code",
   "execution_count": 52,
   "id": "65dfef01",
   "metadata": {},
   "outputs": [
    {
     "data": {
      "text/plain": [
       "┌──────────────────────┬──────────────────────┬───┬──────────────┬──────────────┬──────────────────────┐\n",
       "│ agricultureStructu…  │       asOfDate       │ … │   latitude   │  longitude   │          id          │\n",
       "│       boolean        │ timestamp with tim…  │   │ decimal(9,1) │ decimal(9,1) │         uuid         │\n",
       "├──────────────────────┼──────────────────────┼───┼──────────────┼──────────────┼──────────────────────┤\n",
       "│ false                │ 2020-12-11 11:25:4…  │ … │         30.3 │        -87.7 │ ac2b2b72-4b71-4415…  │\n",
       "│ false                │ 2020-11-13 09:50:3…  │ … │         30.3 │        -87.7 │ dd95560b-afd1-46cb…  │\n",
       "│ false                │ 2022-04-21 15:56:4…  │ … │         32.5 │        -86.4 │ e434f7e3-eeff-42e4…  │\n",
       "│ false                │ 2020-03-09 15:28:2…  │ … │         32.5 │        -86.4 │ 5ddd1b02-a847-4b20…  │\n",
       "│ false                │ 2020-01-22 11:55:5…  │ … │         32.5 │        -86.5 │ a6a39c3c-8ee5-47e9…  │\n",
       "│ false                │ 2020-01-22 11:55:5…  │ … │         32.5 │        -86.4 │ d38b59d3-4ec1-448b…  │\n",
       "│ false                │ 2020-01-22 11:55:5…  │ … │         32.5 │        -86.4 │ 85a38e07-1e58-4d9d…  │\n",
       "│ false                │ 2020-01-22 11:55:5…  │ … │         32.4 │        -86.4 │ 60467956-e19e-4a7a…  │\n",
       "│ false                │ 2024-03-08 09:44:1…  │ … │         32.4 │        -86.4 │ 82b4abf7-22a2-4ebf…  │\n",
       "│ false                │ 2024-08-13 14:48:2…  │ … │         32.4 │        -86.4 │ 927d8a92-a0be-4cf0…  │\n",
       "├──────────────────────┴──────────────────────┴───┴──────────────┴──────────────┴──────────────────────┤\n",
       "│ 10 rows                                                                         73 columns (5 shown) │\n",
       "└──────────────────────────────────────────────────────────────────────────────────────────────────────┘"
      ]
     },
     "execution_count": 52,
     "metadata": {},
     "output_type": "execute_result"
    }
   ],
   "source": [
    "# preview file\n",
    "duckdb.sql(\"\"\"\n",
    "    SELECT *\n",
    "    FROM read_parquet('data/FimaNfipClaims.parquet')\n",
    "    LIMIT 10\n",
    "\"\"\")"
   ]
  },
  {
   "cell_type": "code",
   "execution_count": 54,
   "id": "bc52f20e",
   "metadata": {},
   "outputs": [
    {
     "name": "stdout",
     "output_type": "stream",
     "text": [
      "┌────────────────────────────────────────────┬──────────────────────────┐\n",
      "│                column_name                 │       column_type        │\n",
      "│                  varchar                   │         varchar          │\n",
      "├────────────────────────────────────────────┼──────────────────────────┤\n",
      "│ agricultureStructureIndicator              │ BOOLEAN                  │\n",
      "│ asOfDate                                   │ TIMESTAMP WITH TIME ZONE │\n",
      "│ basementEnclosureCrawlspaceType            │ SMALLINT                 │\n",
      "│ policyCount                                │ SMALLINT                 │\n",
      "│ crsClassificationCode                      │ SMALLINT                 │\n",
      "│ dateOfLoss                                 │ DATE                     │\n",
      "│ elevatedBuildingIndicator                  │ BOOLEAN                  │\n",
      "│ elevationCertificateIndicator              │ VARCHAR                  │\n",
      "│ elevationDifference                        │ DECIMAL(6,1)             │\n",
      "│ baseFloodElevation                         │ DECIMAL(6,1)             │\n",
      "│ ratedFloodZone                             │ VARCHAR                  │\n",
      "│ houseWorship                               │ BOOLEAN                  │\n",
      "│ locationOfContents                         │ SMALLINT                 │\n",
      "│ lowestAdjacentGrade                        │ DECIMAL(6,1)             │\n",
      "│ lowestFloorElevation                       │ DECIMAL(6,1)             │\n",
      "│ numberOfFloorsInTheInsuredBuilding         │ SMALLINT                 │\n",
      "│ nonProfitIndicator                         │ BOOLEAN                  │\n",
      "│ obstructionType                            │ SMALLINT                 │\n",
      "│ occupancyType                              │ SMALLINT                 │\n",
      "│ originalConstructionDate                   │ DATE                     │\n",
      "│ originalNBDate                             │ DATE                     │\n",
      "│ amountPaidOnBuildingClaim                  │ DECIMAL(12,2)            │\n",
      "│ amountPaidOnContentsClaim                  │ DECIMAL(12,2)            │\n",
      "│ amountPaidOnIncreasedCostOfComplianceClaim │ DECIMAL(12,2)            │\n",
      "│ postFIRMConstructionIndicator              │ BOOLEAN                  │\n",
      "│ rateMethod                                 │ VARCHAR                  │\n",
      "│ smallBusinessIndicatorBuilding             │ BOOLEAN                  │\n",
      "│ totalBuildingInsuranceCoverage             │ BIGINT                   │\n",
      "│ totalContentsInsuranceCoverage             │ BIGINT                   │\n",
      "│ yearOfLoss                                 │ SMALLINT                 │\n",
      "│ primaryResidenceIndicator                  │ BOOLEAN                  │\n",
      "│ buildingDamageAmount                       │ BIGINT                   │\n",
      "│ buildingDeductibleCode                     │ VARCHAR                  │\n",
      "│ netBuildingPaymentAmount                   │ DECIMAL(12,2)            │\n",
      "│ buildingPropertyValue                      │ BIGINT                   │\n",
      "│ causeOfDamage                              │ VARCHAR                  │\n",
      "│ condominiumCoverageTypeCode                │ VARCHAR                  │\n",
      "│ contentsDamageAmount                       │ BIGINT                   │\n",
      "│ contentsDeductibleCode                     │ VARCHAR                  │\n",
      "│ netContentsPaymentAmount                   │ DECIMAL(12,2)            │\n",
      "│ contentsPropertyValue                      │ BIGINT                   │\n",
      "│ disasterAssistanceCoverageRequired         │ SMALLINT                 │\n",
      "│ eventDesignationNumber                     │ VARCHAR                  │\n",
      "│ ficoNumber                                 │ SMALLINT                 │\n",
      "│ floodCharacteristicsIndicator              │ SMALLINT                 │\n",
      "│ floodWaterDuration                         │ SMALLINT                 │\n",
      "│ floodproofedIndicator                      │ BOOLEAN                  │\n",
      "│ floodEvent                                 │ VARCHAR                  │\n",
      "│ iccCoverage                                │ INTEGER                  │\n",
      "│ netIccPaymentAmount                        │ DECIMAL(8,2)             │\n",
      "│ nfipRatedCommunityNumber                   │ VARCHAR                  │\n",
      "│ nfipCommunityNumberCurrent                 │ VARCHAR                  │\n",
      "│ nfipCommunityName                          │ VARCHAR                  │\n",
      "│ nonPaymentReasonContents                   │ VARCHAR                  │\n",
      "│ nonPaymentReasonBuilding                   │ VARCHAR                  │\n",
      "│ numberOfUnits                              │ INTEGER                  │\n",
      "│ buildingReplacementCost                    │ BIGINT                   │\n",
      "│ contentsReplacementCost                    │ BIGINT                   │\n",
      "│ replacementCostBasis                       │ VARCHAR                  │\n",
      "│ stateOwnedIndicator                        │ BOOLEAN                  │\n",
      "│ waterDepth                                 │ SMALLINT                 │\n",
      "│ floodZoneCurrent                           │ VARCHAR                  │\n",
      "│ buildingDescriptionCode                    │ SMALLINT                 │\n",
      "│ rentalPropertyIndicator                    │ BOOLEAN                  │\n",
      "│ state                                      │ VARCHAR                  │\n",
      "│ reportedCity                               │ VARCHAR                  │\n",
      "│ reportedZipCode                            │ VARCHAR                  │\n",
      "│ countyCode                                 │ VARCHAR                  │\n",
      "│ censusTract                                │ VARCHAR                  │\n",
      "│ censusBlockGroupFips                       │ VARCHAR                  │\n",
      "│ latitude                                   │ DECIMAL(9,1)             │\n",
      "│ longitude                                  │ DECIMAL(9,1)             │\n",
      "│ id                                         │ UUID                     │\n",
      "├────────────────────────────────────────────┴──────────────────────────┤\n",
      "│ 73 rows                                                     2 columns │\n",
      "└───────────────────────────────────────────────────────────────────────┘\n",
      "\n"
     ]
    }
   ],
   "source": [
    "# preview columns\n",
    "describe_rel = duckdb.sql(\"\"\"\n",
    "    DESCRIBE\n",
    "    SELECT *\n",
    "    FROM read_parquet('data/FimaNfipClaims.parquet')\n",
    "\"\"\")\n",
    "\n",
    "duckdb.sql(\"\"\"\n",
    "    SELECT column_name, column_type\n",
    "    FROM describe_rel\n",
    "\"\"\").show(max_rows=80)"
   ]
  },
  {
   "cell_type": "code",
   "execution_count": 56,
   "id": "befacd0a",
   "metadata": {},
   "outputs": [
    {
     "name": "stdout",
     "output_type": "stream",
     "text": [
      "┌────────────────────────────────────────────┬─────────────────┐\n",
      "│                column_name                 │ null_percentage │\n",
      "│                  varchar                   │  decimal(9,2)   │\n",
      "├────────────────────────────────────────────┼─────────────────┤\n",
      "│ floodCharacteristicsIndicator              │           98.53 │\n",
      "│ eventDesignationNumber                     │           93.23 │\n",
      "│ lowestAdjacentGrade                        │           81.10 │\n",
      "│ crsClassificationCode                      │           79.69 │\n",
      "│ nonPaymentReasonBuilding                   │           77.93 │\n",
      "│ elevationCertificateIndicator              │           77.92 │\n",
      "│ lowestFloorElevation                       │           76.36 │\n",
      "│ baseFloodElevation                         │           75.67 │\n",
      "│ elevationDifference                        │           72.95 │\n",
      "│ floodZoneCurrent                           │           71.72 │\n",
      "│ nfipCommunityNumberCurrent                 │           71.68 │\n",
      "│ basementEnclosureCrawlspaceType            │           69.82 │\n",
      "│ nfipCommunityName                          │           69.78 │\n",
      "│ nonPaymentReasonContents                   │           68.57 │\n",
      "│ buildingDescriptionCode                    │           64.01 │\n",
      "│ contentsReplacementCost                    │           58.58 │\n",
      "│ contentsDamageAmount                       │           58.55 │\n",
      "│ contentsPropertyValue                      │           58.55 │\n",
      "│ obstructionType                            │           44.27 │\n",
      "│ ficoNumber                                 │           36.17 │\n",
      "│ iccCoverage                                │           35.92 │\n",
      "│ locationOfContents                         │           33.81 │\n",
      "│ floodEvent                                 │           28.22 │\n",
      "│ buildingDamageAmount                       │           22.13 │\n",
      "│ buildingPropertyValue                      │           22.13 │\n",
      "│ buildingReplacementCost                    │           22.13 │\n",
      "│ amountPaidOnBuildingClaim                  │           20.96 │\n",
      "│ amountPaidOnContentsClaim                  │           20.96 │\n",
      "│ amountPaidOnIncreasedCostOfComplianceClaim │           20.96 │\n",
      "│ contentsDeductibleCode                     │           20.69 │\n",
      "│ disasterAssistanceCoverageRequired         │           14.33 │\n",
      "│ buildingDeductibleCode                     │           11.63 │\n",
      "│ floodWaterDuration                         │           10.17 │\n",
      "│ waterDepth                                 │            8.72 │\n",
      "│ replacementCostBasis                       │            7.19 │\n",
      "│ ratedFloodZone                             │            5.13 │\n",
      "│ censusTract                                │            5.08 │\n",
      "│ censusBlockGroupFips                       │            5.08 │\n",
      "│ countyCode                                 │            2.30 │\n",
      "│ rateMethod                                 │            1.83 │\n",
      "│ latitude                                   │            1.52 │\n",
      "│ longitude                                  │            1.52 │\n",
      "│ causeOfDamage                              │            1.41 │\n",
      "│ condominiumCoverageTypeCode                │            1.38 │\n",
      "│ numberOfFloorsInTheInsuredBuilding         │            0.64 │\n",
      "│ numberOfUnits                              │            0.10 │\n",
      "│ originalConstructionDate                   │            0.07 │\n",
      "│ occupancyType                              │            0.02 │\n",
      "│ agricultureStructureIndicator              │            0.00 │\n",
      "│ asOfDate                                   │            0.00 │\n",
      "│ policyCount                                │            0.00 │\n",
      "│ dateOfLoss                                 │            0.00 │\n",
      "│ elevatedBuildingIndicator                  │            0.00 │\n",
      "│ houseWorship                               │            0.00 │\n",
      "│ nonProfitIndicator                         │            0.00 │\n",
      "│ originalNBDate                             │            0.00 │\n",
      "│ postFIRMConstructionIndicator              │            0.00 │\n",
      "│ smallBusinessIndicatorBuilding             │            0.00 │\n",
      "│ totalBuildingInsuranceCoverage             │            0.00 │\n",
      "│ totalContentsInsuranceCoverage             │            0.00 │\n",
      "│ yearOfLoss                                 │            0.00 │\n",
      "│ primaryResidenceIndicator                  │            0.00 │\n",
      "│ netBuildingPaymentAmount                   │            0.00 │\n",
      "│ netContentsPaymentAmount                   │            0.00 │\n",
      "│ floodproofedIndicator                      │            0.00 │\n",
      "│ netIccPaymentAmount                        │            0.00 │\n",
      "│ nfipRatedCommunityNumber                   │            0.00 │\n",
      "│ stateOwnedIndicator                        │            0.00 │\n",
      "│ rentalPropertyIndicator                    │            0.00 │\n",
      "│ state                                      │            0.00 │\n",
      "│ reportedCity                               │            0.00 │\n",
      "│ reportedZipCode                            │            0.00 │\n",
      "│ id                                         │            0.00 │\n",
      "├────────────────────────────────────────────┴─────────────────┤\n",
      "│ 73 rows                                            2 columns │\n",
      "└──────────────────────────────────────────────────────────────┘\n",
      "\n"
     ]
    }
   ],
   "source": [
    "# summarize null statistics\n",
    "summarize_rel = duckdb.sql(\"\"\"\n",
    "    SUMMARIZE\n",
    "    SELECT *\n",
    "    FROM read_parquet('data/FimaNfipClaims.parquet')\n",
    "\"\"\")\n",
    "\n",
    "# order by percentage\n",
    "duckdb.sql(\"\"\"\n",
    "    SELECT\n",
    "        column_name,\n",
    "        null_percentage\n",
    "    FROM\n",
    "        summarize_rel\n",
    "    ORDER BY\n",
    "        null_percentage DESC\n",
    "\"\"\").show(max_rows=80)"
   ]
  },
  {
   "cell_type": "code",
   "execution_count": null,
   "id": "9c8b99b4",
   "metadata": {},
   "outputs": [],
   "source": []
  }
 ],
 "metadata": {
  "kernelspec": {
   "display_name": "Python 3 (ipykernel)",
   "language": "python",
   "name": "python3"
  },
  "language_info": {
   "codemirror_mode": {
    "name": "ipython",
    "version": 3
   },
   "file_extension": ".py",
   "mimetype": "text/x-python",
   "name": "python",
   "nbconvert_exporter": "python",
   "pygments_lexer": "ipython3",
   "version": "3.11.0"
  }
 },
 "nbformat": 4,
 "nbformat_minor": 5
}
